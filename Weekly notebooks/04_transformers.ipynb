{
 "cells": [
  {
   "cell_type": "markdown",
   "metadata": {},
   "source": [
    "# Lecture 4: Vision Transformers (ViTs)\n",
    "Welcome to this hands-on tutorial on **Vision Transformers (ViTs)**, a groundbreaking architecture that has transformed the field of computer vision. In this notebook, we’ll explore the key components and mechanisms that make ViTs unique, with a particular focus on **self-attention** and **patch embeddings**.\n",
    "\n",
    "Unlike traditional Convolutional Neural Networks (CNNs), ViTs use a transformer-based approach to process image data. Images are divided into small, fixed-size patches, which are then embedded into a sequence of vectors. These vectors are processed through a series of **Multi-Head Self-Attention (MHA) layers**, enabling the model to capture both local and global dependencies.\n",
    "\n",
    "By the end of this notebook, you’ll understand how to:\n",
    "\n",
    "1) Implement patch embeddings to transform images into input sequences for ViTs.\n",
    "2) Build and train a self-attention block, the core building block of Vision Transformers.\n",
    "3) Appreciate the significance of pre-training for achieving optimal performance with ViTs.\n",
    "\n",
    "Through these implementations, we aim to show the workings of ViTs and provide you with the tools to construct and train your first Vision Transformer. Let’s dive into this exciting architecture and explore its potential!\n",
    "\n"
   ]
  },
  {
   "cell_type": "code",
   "execution_count": 1,
   "metadata": {},
   "outputs": [],
   "source": [
    "# IMPORT PACKAGES\n",
    "import torch\n",
    "import torch.nn as nn\n",
    "import torch.optim as optim\n",
    "import math\n",
    "import torch.nn.functional as F\n",
    "\n",
    "from torchvision import datasets, transforms\n",
    "from torch.utils.data import DataLoader\n",
    "\n",
    "import numpy as np\n",
    "import matplotlib.pyplot as plt\n",
    "import copy\n",
    "import os\n",
    "\n",
    "import unittest"
   ]
  },
  {
   "cell_type": "code",
   "execution_count": 2,
   "metadata": {},
   "outputs": [
    {
     "name": "stdout",
     "output_type": "stream",
     "text": [
      "Using device: cuda\n"
     ]
    }
   ],
   "source": [
    "# Set device\n",
    "device = torch.device(\"cuda\" if torch.cuda.is_available() else \"cpu\") # You don't have a gpu, so use cpu\n",
    "print(f'Using device: {device}')"
   ]
  },
  {
   "cell_type": "markdown",
   "metadata": {},
   "source": [
    "## 3.1 Basic Building blocks of ViTs\n",
    "In this part of the assignment you will implement the Attention mechanism and the function to create patch embeddings from images. Once you have successfully implemented the code in this notebook, please copy your implementation to vision_transformer_utils.py. You will need a complete version of that file for the second part of the assignment."
   ]
  },
  {
   "cell_type": "markdown",
   "metadata": {},
   "source": [
    "### 3.1.1 Implementing Multi-Head Self-Attention\n",
    "Please complete the following Attention class. You can do it in about 7 lines of code"
   ]
  },
  {
   "cell_type": "code",
   "execution_count": 3,
   "metadata": {},
   "outputs": [],
   "source": [
    "class Attention(nn.Module):\n",
    "\n",
    "    \"\"\"\n",
    "    Implements a multi-head self-attention mechanism with optional scaling.\n",
    "\n",
    "    This module computes self-attention, using a scaled dot-product mechanism, over input features. It supports optional biases in the query, key, and value projections, scaling of the attention scores, and dropout in both the attention scores and the output projection.\n",
    "\n",
    "    Parameters:\n",
    "    - dim (int): Dimensionality of the input features and the output features.\n",
    "    - num_heads (int, optional): Number of attention heads. Defaults to 8.\n",
    "    - qkv_bias (bool, optional): If True, adds a learnable bias to query, key, and value projections. Defaults to False.\n",
    "    - qk_scale (float, optional): Scale factor for query-key dot products. If None, defaults to dim ** -0.5. When specified, overrides the default scaling.\n",
    "    - attn_drop (float, optional): Dropout rate for attention weights. Defaults to 0.\n",
    "    - proj_drop (float, optional): Dropout rate for the output of the final projection layer. Defaults to 0.\n",
    "\n",
    "    The forward pass accepts an input tensor `x` and returns the transformed tensor and the attention weights. The input tensor is expected to have the shape (batch_size, num_features, dim), where `num_features` is the number of features (or tokens) and `dim` is the feature dimensionality.\n",
    "\n",
    "    The output consists of the transformed input tensor with the same shape as the input and the attention weights tensor of shape (batch_size, num_heads, num_features, num_features), representing the attention scores applied to the input features.\n",
    "    \"\"\"\n",
    "    \n",
    "\n",
    "    def __init__(self, dim, num_heads=8, qkv_bias=False, qk_scale=None, attn_drop=0., proj_drop=0.):\n",
    "        super().__init__()\n",
    "        self.num_heads = num_heads\n",
    "        head_dim = dim // num_heads\n",
    "        self.scale = qk_scale or head_dim ** -0.5\n",
    "\n",
    "        self.qkv = nn.Linear(dim, dim * 3, bias=qkv_bias)\n",
    "        self.attn_drop = nn.Dropout(attn_drop)\n",
    "        self.proj = nn.Linear(dim, dim)\n",
    "        self.proj_drop = nn.Dropout(proj_drop)\n",
    "\n",
    "    def forward(self, x):\n",
    "        B, N, C = x.shape   # x = (batch_size, num_features, dim)\n",
    "        qkv = self.qkv(x).reshape(B, N, 3, self.num_heads, C // self.num_heads).permute(2, 0, 3, 1, 4)  # qkv = (3, B, num_heads, N num_features/tokens, C/dim // self.num_heads)\n",
    "\n",
    "        #TODO: complete the forward pass\n",
    "        q, k, v = qkv  #q = (2, 4, 10, 8) batch, heads, tokens, 32/4 = 8\n",
    "        d_k = torch.tensor([q.size()[-1]])\n",
    "        attn_logits = torch.matmul(q, k.transpose(-2, -1)) * self.scale / torch.sqrt(d_k) # = (2, 4, 10, 10)\n",
    "        attn_weights = self.attn_drop(F.softmax(attn_logits, dim=-1)) # = (2, 4, 10, 10)\n",
    "        attn = torch.matmul(attn_weights, v) # = (2, 4, 10, 8)\n",
    "        x = self.proj(attn.reshape(B, N, C)) \n",
    "        x = self.proj_drop(x)\n",
    "        \n",
    "        return x, attn_weights"
   ]
  },
  {
   "cell_type": "markdown",
   "metadata": {},
   "source": [
    "The below unit test function will call the Attention class you just implemented and test if the output shape and type are correct. \n",
    "**You do not need to modify this function.**"
   ]
  },
  {
   "cell_type": "code",
   "execution_count": 4,
   "metadata": {},
   "outputs": [],
   "source": [
    "# Code for testing the Attention module, you do not need to modify this\n",
    "class TestAttention(unittest.TestCase):\n",
    "\n",
    "    def setUp(self):\n",
    "        # Setup your test cases here with different configurations\n",
    "        self.batch_size = 2\n",
    "        self.seq_length = 10\n",
    "        self.embed_dim = 32\n",
    "        self.num_heads = 4\n",
    "\n",
    "        self.input_tensor = torch.rand(self.batch_size, self.seq_length, self.embed_dim) # random tensor that represents your input\n",
    "\n",
    "    def test_output_shape(self):\n",
    "        \"\"\"Test if the output shape is correct.\"\"\"\n",
    "        attention = Attention(dim=self.embed_dim, num_heads=self.num_heads)\n",
    "        output, attn = attention(self.input_tensor)\n",
    "        self.assertEqual(output.shape, self.input_tensor.shape)\n",
    "        self.assertEqual(attn.shape, (self.batch_size, self.num_heads, self.seq_length, self.seq_length))\n",
    "\n",
    "    def test_output_type(self):\n",
    "        \"\"\"Test if the output types are correct.\"\"\"\n",
    "        attention = Attention(dim=self.embed_dim, num_heads=self.num_heads)\n",
    "        output, attn = attention(self.input_tensor)\n",
    "        self.assertIsInstance(output, torch.Tensor)\n",
    "        self.assertIsInstance(attn, torch.Tensor)"
   ]
  },
  {
   "cell_type": "markdown",
   "metadata": {},
   "source": [
    "Now we are going to test the implemented Attention module with the defined unit test. Please make sure to pass these tests before continuing the assignment. \n",
    "\n",
    "**If the tests pass, copy the code of the working Attention module to the vision_transformer_utils.py file for use in the second part of the assignment**."
   ]
  },
  {
   "cell_type": "code",
   "execution_count": 5,
   "metadata": {},
   "outputs": [
    {
     "name": "stderr",
     "output_type": "stream",
     "text": [
      "test_output_shape (__main__.TestAttention)\n",
      "Test if the output shape is correct. ... ok\n",
      "test_output_type (__main__.TestAttention)\n",
      "Test if the output types are correct. ... ok\n",
      "\n",
      "----------------------------------------------------------------------\n",
      "Ran 2 tests in 0.050s\n",
      "\n",
      "OK\n"
     ]
    },
    {
     "data": {
      "text/plain": [
       "<unittest.main.TestProgram at 0x22c0e2a0cd0>"
      ]
     },
     "execution_count": 5,
     "metadata": {},
     "output_type": "execute_result"
    }
   ],
   "source": [
    "# Test the Attention module\n",
    "unittest.main(argv=[''], verbosity=2, exit=False) # make sure these pass before continuing the assignment"
   ]
  },
  {
   "cell_type": "markdown",
   "metadata": {},
   "source": [
    "### 3.1.2 Implementing Patch Embedding\n",
    "Please complete the following Patch embedding code. You can do it in 1 line of code."
   ]
  },
  {
   "cell_type": "code",
   "execution_count": 6,
   "metadata": {},
   "outputs": [],
   "source": [
    "class PatchEmbed(nn.Module):\n",
    "    \"\"\"\n",
    "    Converts an image into a sequence of patches and embeds them.\n",
    "\n",
    "    This module uses a convolutional layer to transform the input images into a flat sequence of embeddings, \n",
    "    effectively converting each patch of the image into an embedding vector.\n",
    "\n",
    "    Parameters:\n",
    "    - img_size (int, optional): Size of the input image (height and width). Defaults to 224.\n",
    "    - patch_size (int, optional): Size of each patch (height and width). Defaults to 16.\n",
    "    - in_chans (int, optional): Number of input channels (e.g., 3 for RGB images). Defaults to 3.\n",
    "    - embed_dim (int, optional): Dimension of the patch embeddings. Defaults to 768.\n",
    "\n",
    "    The module calculates the number of patches by dividing the image size by the patch size, both vertically and horizontally. \n",
    "    It then applies a 2D convolutional layer to project each patch to the embedding space defined by `embed_dim`.\n",
    "    \"\"\"\n",
    "    def __init__(self, img_size=224, patch_size=16, in_chans=3, embed_dim=768):\n",
    "        super().__init__()\n",
    "        num_patches = (img_size // patch_size) * (img_size // patch_size)\n",
    "        self.img_size = img_size\n",
    "        self.patch_size = patch_size\n",
    "        self.num_patches = num_patches\n",
    "\n",
    "        self.proj = nn.Conv2d(in_chans, embed_dim, kernel_size=patch_size, stride=patch_size)\n",
    "\n",
    "    def forward(self, x):\n",
    "        B, C, H, W = x.shape\n",
    "        \n",
    "        # TODO: Complete the forward pass\n",
    "        x = self.proj(x)\n",
    "        B, C, H, W = x.shape\n",
    "        x = x.reshape(B, C, H * W).permute(0, 2, 1)\n",
    "\n",
    "        return x\n"
   ]
  },
  {
   "cell_type": "markdown",
   "metadata": {},
   "source": [
    "The below unit test function will call the PatchEmbed class you just implemented and test if the output shape, number of patches and output type are correct. **You do not need to modify this function.**"
   ]
  },
  {
   "cell_type": "code",
   "execution_count": 7,
   "metadata": {},
   "outputs": [],
   "source": [
    "# Code for testing the Patch Embedding module, you do not need to modify this\n",
    "class TestPatchEmbed(unittest.TestCase):\n",
    "\n",
    "    def setUp(self):\n",
    "        # Example setup: 224x224 image with 3 channels, 16x16 patches, and embedding dimension of 768\n",
    "        self.img_size = 224\n",
    "        self.patch_size = 16\n",
    "        self.in_chans = 3\n",
    "        self.embed_dim = 768\n",
    "        self.batch_size = 4\n",
    "\n",
    "        # Calculate the expected number of patches\n",
    "        self.expected_num_patches = (self.img_size // self.patch_size) ** 2\n",
    "\n",
    "        # Create a dummy input tensor\n",
    "        self.input_tensor = torch.rand(self.batch_size, self.in_chans, self.img_size, self.img_size)\n",
    "\n",
    "    def test_output_shape(self):\n",
    "        \"\"\"Test if the output tensor shape is correct.\"\"\"\n",
    "        patch_embed = PatchEmbed(img_size=self.img_size, patch_size=self.patch_size, in_chans=self.in_chans, embed_dim=self.embed_dim)\n",
    "        output = patch_embed(self.input_tensor)\n",
    "        expected_shape = (self.batch_size, self.expected_num_patches, self.embed_dim)\n",
    "        self.assertEqual(output.shape, expected_shape)\n",
    "\n",
    "    def test_num_patches(self):\n",
    "        \"\"\"Test if the calculated number of patches is correct.\"\"\"\n",
    "        patch_embed = PatchEmbed(img_size=self.img_size, patch_size=self.patch_size)\n",
    "        self.assertEqual(patch_embed.num_patches, self.expected_num_patches)\n",
    "\n",
    "    def test_output_type(self):\n",
    "        \"\"\"Test if the output is a tensor.\"\"\"\n",
    "        patch_embed = PatchEmbed(img_size=self.img_size, patch_size=self.patch_size, in_chans=self.in_chans, embed_dim=self.embed_dim)\n",
    "        output = patch_embed(self.input_tensor)\n",
    "        self.assertIsInstance(output, torch.Tensor)\n"
   ]
  },
  {
   "cell_type": "markdown",
   "metadata": {},
   "source": [
    "Now we are going to test the implemented PatchEmbed module with the defined unit test. Please make sure to pass these tests before continuing the assignment. \n",
    "\n",
    "**If the test pass, copy the code of the working PatchEmbed module to the vision_transformer_utils.py file for use in the second part of the assignment.**"
   ]
  },
  {
   "cell_type": "code",
   "execution_count": 8,
   "metadata": {},
   "outputs": [
    {
     "name": "stderr",
     "output_type": "stream",
     "text": [
      "test_output_shape (__main__.TestAttention)\n",
      "Test if the output shape is correct. ... ok\n",
      "test_output_type (__main__.TestAttention)\n",
      "Test if the output types are correct. ... ok\n",
      "test_num_patches (__main__.TestPatchEmbed)\n",
      "Test if the calculated number of patches is correct. ... ok\n",
      "test_output_shape (__main__.TestPatchEmbed)\n",
      "Test if the output tensor shape is correct. ... ok\n",
      "test_output_type (__main__.TestPatchEmbed)\n",
      "Test if the output is a tensor. ... ok\n",
      "\n",
      "----------------------------------------------------------------------\n",
      "Ran 5 tests in 0.068s\n",
      "\n",
      "OK\n"
     ]
    },
    {
     "data": {
      "text/plain": [
       "<unittest.main.TestProgram at 0x22c0e2afd90>"
      ]
     },
     "execution_count": 8,
     "metadata": {},
     "output_type": "execute_result"
    }
   ],
   "source": [
    "# Run the tests\n",
    "unittest.main(argv=[''], verbosity=2, exit=False) # make sure these pass before continuing the assignment"
   ]
  },
  {
   "cell_type": "markdown",
   "metadata": {},
   "source": [
    "## 3.2 Training ViTs"
   ]
  },
  {
   "cell_type": "markdown",
   "metadata": {},
   "source": [
    "We will use he same dataset as in the first and second notebook, CIFAR-10. "
   ]
  },
  {
   "cell_type": "code",
   "execution_count": 3,
   "metadata": {},
   "outputs": [
    {
     "name": "stdout",
     "output_type": "stream",
     "text": [
      "Files already downloaded and verified\n",
      "Files already downloaded and verified\n"
     ]
    }
   ],
   "source": [
    "# preprocess the data\n",
    "transform = transforms.Compose([\n",
    "    transforms.ToTensor(),\n",
    "    transforms.Normalize((0.485, 0.456, 0.406), (0.229, 0.224, 0.225)), # cifar mean and std\n",
    "])\n",
    "\n",
    "\n",
    "# download CIFAR-10 dataset\n",
    "train_dataset = datasets.CIFAR10(root='./data', train=True, download=True, transform=transform)\n",
    "\n",
    "# download the test data\n",
    "test_dataset = datasets.CIFAR10(root='./data', train=False, download=True, transform=transform)\n",
    "\n",
    "# create data loaders\n",
    "train_loader = DataLoader(train_dataset, batch_size=64, shuffle=True)\n",
    "test_loader = DataLoader(test_dataset, batch_size=64, shuffle=False)"
   ]
  },
  {
   "cell_type": "markdown",
   "metadata": {},
   "source": [
    "### 3.2.1 Constructing ViT Model\n",
    "Here we assume you have successfully implemented Attention and PatchEmbed in the vision_transformers_utils.py file."
   ]
  },
  {
   "cell_type": "code",
   "execution_count": 4,
   "metadata": {},
   "outputs": [],
   "source": [
    "from vision_transformer_utils_to_update import vit_small"
   ]
  },
  {
   "cell_type": "code",
   "execution_count": 5,
   "metadata": {},
   "outputs": [
    {
     "data": {
      "text/plain": [
       "VisionTransformer(\n",
       "  (patch_embed): PatchEmbed(\n",
       "    (proj): Conv2d(3, 384, kernel_size=(8, 8), stride=(8, 8))\n",
       "  )\n",
       "  (pos_drop): Dropout(p=0.0, inplace=False)\n",
       "  (blocks): ModuleList(\n",
       "    (0-11): 12 x Block(\n",
       "      (norm1): LayerNorm((384,), eps=1e-06, elementwise_affine=True)\n",
       "      (attn): Attention(\n",
       "        (qkv): Linear(in_features=384, out_features=1152, bias=True)\n",
       "        (attn_drop): Dropout(p=0.0, inplace=False)\n",
       "        (proj): Linear(in_features=384, out_features=384, bias=True)\n",
       "        (proj_drop): Dropout(p=0.0, inplace=False)\n",
       "      )\n",
       "      (drop_path): Identity()\n",
       "      (norm2): LayerNorm((384,), eps=1e-06, elementwise_affine=True)\n",
       "      (mlp): Mlp(\n",
       "        (fc1): Linear(in_features=384, out_features=1536, bias=True)\n",
       "        (act): GELU(approximate='none')\n",
       "        (fc2): Linear(in_features=1536, out_features=384, bias=True)\n",
       "        (drop): Dropout(p=0.0, inplace=False)\n",
       "      )\n",
       "    )\n",
       "  )\n",
       "  (norm): LayerNorm((384,), eps=1e-06, elementwise_affine=True)\n",
       "  (head): Identity()\n",
       ")"
      ]
     },
     "execution_count": 5,
     "metadata": {},
     "output_type": "execute_result"
    }
   ],
   "source": [
    "# Create the Vision Transformer Model with the implemented Attention and PatchEmbed Modules\n",
    "own_model = vit_small(patch_size=8)\n",
    "\n",
    "# Send the model to the available device\n",
    "own_model.to(device)"
   ]
  },
  {
   "cell_type": "markdown",
   "metadata": {},
   "source": [
    "### 3.2.2 Training ViT Model from scratch\n",
    "Train your ViT model, feel free to modify the code below and get the best accuracy you can"
   ]
  },
  {
   "cell_type": "code",
   "execution_count": 6,
   "metadata": {},
   "outputs": [
    {
     "name": "stdout",
     "output_type": "stream",
     "text": [
      "Finished epoch [1/10], Loss: 1.8821\n",
      "Accuracy of the network on the 10000 test images: 36.66%\n",
      "Finished epoch [2/10], Loss: 1.7479\n",
      "Accuracy of the network on the 10000 test images: 39.37%\n",
      "Finished epoch [3/10], Loss: 1.6948\n",
      "Accuracy of the network on the 10000 test images: 38.19%\n",
      "Finished epoch [4/10], Loss: 1.6671\n",
      "Accuracy of the network on the 10000 test images: 39.86%\n",
      "Finished epoch [5/10], Loss: 1.6387\n",
      "Accuracy of the network on the 10000 test images: 37.02%\n",
      "Finished epoch [6/10], Loss: 1.5875\n",
      "Accuracy of the network on the 10000 test images: 44.38%\n",
      "Finished epoch [7/10], Loss: 1.5399\n",
      "Accuracy of the network on the 10000 test images: 45.26%\n",
      "Finished epoch [8/10], Loss: 1.5227\n",
      "Accuracy of the network on the 10000 test images: 46.34%\n",
      "Finished epoch [9/10], Loss: 1.5078\n",
      "Accuracy of the network on the 10000 test images: 46.0%\n",
      "Finished epoch [10/10], Loss: 1.4689\n",
      "Accuracy of the network on the 10000 test images: 47.68%\n",
      "Finished Training\n"
     ]
    }
   ],
   "source": [
    "# Set parameters\n",
    "num_epochs = 10\n",
    "learning_rate = 0.001\n",
    "\n",
    "# Set the loss function and optimizer\n",
    "criterion = nn.CrossEntropyLoss()\n",
    "optimizer = optim.Adam(own_model.parameters(), lr=learning_rate)\n",
    "\n",
    "# Initialize best_score parameter\n",
    "best_score = 0\n",
    "\n",
    "# Train the model\n",
    "for epoch in range(num_epochs):  # loop over the dataset for the number of specified epochs\n",
    "    running_loss = 0.0\n",
    "    for i, data in enumerate(train_loader):\n",
    "        inputs, labels = data[0].to(device), data[1].to(device)\n",
    "\n",
    "        optimizer.zero_grad()\n",
    "\n",
    "        outputs = own_model(inputs)\n",
    "        loss = criterion(outputs, labels)\n",
    "        loss.backward()\n",
    "        optimizer.step()\n",
    "\n",
    "        running_loss += loss.item()\n",
    "        print(f'Epoch {epoch + 1}, Iteration [{i}/{len(train_loader)}]', end='\\r')\n",
    "        \n",
    "    # log the running loss\n",
    "    print(f'Finished epoch [{epoch + 1}/{num_epochs}], Loss: {running_loss / len(train_loader):.4f}')\n",
    "\n",
    "    # show testing accuracy\n",
    "    correct = 0\n",
    "    total = 0\n",
    "\n",
    "    with torch.no_grad():\n",
    "        for data in test_loader:\n",
    "            images, labels = data[0].to(device), data[1].to(device)\n",
    "            outputs = own_model(images)\n",
    "            _, predicted = torch.max(outputs.data, 1)\n",
    "            total += labels.size(0)\n",
    "            correct += (predicted == labels).sum().item()\n",
    "    # log the testing accuracy\n",
    "    print(f'Accuracy of the network on the 10000 test images: {100 * correct / total}%')\n",
    "    \n",
    "\n",
    "print('Finished Training')\n",
    "# save the model\n",
    "PATH = './first_vit_cifar_net_last.pth'\n",
    "torch.save(own_model.state_dict(), PATH)"
   ]
  },
  {
   "cell_type": "markdown",
   "metadata": {},
   "source": [
    "Now we want to test the performance of our model trained from scratch."
   ]
  },
  {
   "cell_type": "code",
   "execution_count": 7,
   "metadata": {},
   "outputs": [],
   "source": [
    "# Test your model on the test set\n",
    "def test_model_on_testset(model, test_loader, device):\n",
    "    correct = 0\n",
    "    total = 0\n",
    "    model.eval()\n",
    "    with torch.no_grad():\n",
    "        for data in test_loader:\n",
    "            images, labels = data[0].to(device), data[1].to(device)\n",
    "            outputs = model(images)\n",
    "            _, predicted = torch.max(outputs.data, 1)\n",
    "            total += labels.size(0)\n",
    "            correct += (predicted == labels).sum().item()\n",
    "\n",
    "    print(f'Accuracy of the network on the 10000 test images: {100 * correct / total} %')"
   ]
  },
  {
   "cell_type": "code",
   "execution_count": 8,
   "metadata": {},
   "outputs": [
    {
     "name": "stdout",
     "output_type": "stream",
     "text": [
      "Accuracy of the network on the 10000 test images: 47.68 %\n"
     ]
    }
   ],
   "source": [
    "test_model_on_testset(own_model, test_loader, device)"
   ]
  },
  {
   "cell_type": "markdown",
   "metadata": {},
   "source": [
    "#### Questions\n",
    "**Q1**. What do you think of the performance obtained by the model trained from scratch? How can we improve the performance?\n",
    "\n",
    "**Q2**. What is the influence of the learning rate? Try to increase/decrease the learning rate.\n",
    "\n",
    "**Q3**. What is the impact of the patch size on the performance? (Note: the input resolution is 32x32 pixels)\n",
    "\n",
    "**Q4**. What does happen if we instead of vit_small use another version (e.g. vit_tiny, vit_base)?\n"
   ]
  },
  {
   "cell_type": "markdown",
   "metadata": {},
   "source": [
    "### 3.2.3 Initializing ViT model with ImageNet DINO weights\n",
    "Now we are going to construct the same model, but rather than initializing it from scratch, we will load weights obtained by pre-training with the self-supervised DINO method!"
   ]
  },
  {
   "cell_type": "code",
   "execution_count": 9,
   "metadata": {},
   "outputs": [
    {
     "name": "stderr",
     "output_type": "stream",
     "text": [
      "Downloading: \"https://dl.fbaipublicfiles.com/dino/dino_deitsmall8_pretrain/dino_deitsmall8_pretrain.pth\" to C:\\Users\\20203226/.cache\\torch\\hub\\checkpoints\\dino_deitsmall8_pretrain.pth\n",
      "100%|██████████| 82.7M/82.7M [00:07<00:00, 11.4MB/s]\n"
     ]
    },
    {
     "data": {
      "text/plain": [
       "VisionTransformer(\n",
       "  (patch_embed): PatchEmbed(\n",
       "    (proj): Conv2d(3, 384, kernel_size=(8, 8), stride=(8, 8))\n",
       "  )\n",
       "  (pos_drop): Dropout(p=0.0, inplace=False)\n",
       "  (blocks): ModuleList(\n",
       "    (0-11): 12 x Block(\n",
       "      (norm1): LayerNorm((384,), eps=1e-06, elementwise_affine=True)\n",
       "      (attn): Attention(\n",
       "        (qkv): Linear(in_features=384, out_features=1152, bias=True)\n",
       "        (attn_drop): Dropout(p=0.0, inplace=False)\n",
       "        (proj): Linear(in_features=384, out_features=384, bias=True)\n",
       "        (proj_drop): Dropout(p=0.0, inplace=False)\n",
       "      )\n",
       "      (drop_path): Identity()\n",
       "      (norm2): LayerNorm((384,), eps=1e-06, elementwise_affine=True)\n",
       "      (mlp): Mlp(\n",
       "        (fc1): Linear(in_features=384, out_features=1536, bias=True)\n",
       "        (act): GELU(approximate='none')\n",
       "        (fc2): Linear(in_features=1536, out_features=384, bias=True)\n",
       "        (drop): Dropout(p=0.0, inplace=False)\n",
       "      )\n",
       "    )\n",
       "  )\n",
       "  (norm): LayerNorm((384,), eps=1e-06, elementwise_affine=True)\n",
       "  (head): Identity()\n",
       ")"
      ]
     },
     "execution_count": 9,
     "metadata": {},
     "output_type": "execute_result"
    }
   ],
   "source": [
    "# Try loading pretrained IMAGENET model (NOTE: patch_size has to be 8 to load in the pre-trained weights)\n",
    "pretrained_model = vit_small(patch_size=8)\n",
    "\n",
    "url = \"dino_deitsmall8_pretrain/dino_deitsmall8_pretrain.pth\"\n",
    "state_dict = torch.hub.load_state_dict_from_url(url=\"https://dl.fbaipublicfiles.com/dino/\" + url)\n",
    "pretrained_model.load_state_dict(state_dict, strict=True)\n",
    "pretrained_model.to(device)"
   ]
  },
  {
   "cell_type": "markdown",
   "metadata": {},
   "source": [
    "Let's see how the ImageNet weights initialized model performs on the test set"
   ]
  },
  {
   "cell_type": "code",
   "execution_count": 10,
   "metadata": {},
   "outputs": [
    {
     "name": "stdout",
     "output_type": "stream",
     "text": [
      "Accuracy of the network on the 10000 test images: 0.0 %\n"
     ]
    }
   ],
   "source": [
    "test_model_on_testset(pretrained_model, test_loader, device)"
   ]
  },
  {
   "cell_type": "markdown",
   "metadata": {},
   "source": [
    "#### Questions\n",
    "Q5. Is this performance at the level you would expect? Why do you think this is the case?"
   ]
  },
  {
   "cell_type": "markdown",
   "metadata": {},
   "source": [
    "### 3.2.4 Finetuning ViT model with ImageNet DINO weights\n",
    "Finetune the model with ImageNet pretrained weights. "
   ]
  },
  {
   "cell_type": "code",
   "execution_count": 11,
   "metadata": {},
   "outputs": [
    {
     "name": "stdout",
     "output_type": "stream",
     "text": [
      "Finished epoch [1/10], Loss: 1.0523\n",
      "Accuracy of the network on the 10000 test images: 76.5%\n",
      "Finished epoch [2/10], Loss: 0.5052\n",
      "Accuracy of the network on the 10000 test images: 78.06%\n",
      "Finished epoch [3/10], Loss: 0.3106\n",
      "Accuracy of the network on the 10000 test images: 77.17%\n",
      "Finished epoch [4/10], Loss: 0.2062\n",
      "Accuracy of the network on the 10000 test images: 78.81%\n",
      "Finished epoch [5/10], Loss: 0.1561\n",
      "Accuracy of the network on the 10000 test images: 77.74%\n",
      "Finished epoch [6/10], Loss: 0.1331\n",
      "Accuracy of the network on the 10000 test images: 77.6%\n",
      "Finished epoch [7/10], Loss: 0.1123\n",
      "Accuracy of the network on the 10000 test images: 76.55%\n",
      "Finished epoch [8/10], Loss: 0.0938\n",
      "Accuracy of the network on the 10000 test images: 78.82%\n",
      "Finished epoch [9/10], Loss: 0.0945\n",
      "Accuracy of the network on the 10000 test images: 77.97%\n",
      "Finished epoch [10/10], Loss: 0.0858\n",
      "Accuracy of the network on the 10000 test images: 77.63%\n",
      "Finished Training\n"
     ]
    }
   ],
   "source": [
    "# Set parameters\n",
    "num_epochs = 10\n",
    "learning_rate = 0.0001\n",
    "\n",
    "# Put the model on the device and set to training mode\n",
    "pretrained_model.to(device)\n",
    "pretrained_model.train()\n",
    "\n",
    "# Set the loss function and optimizer\n",
    "criterion = nn.CrossEntropyLoss()\n",
    "optimizer = optim.Adam(pretrained_model.parameters(), lr=learning_rate)\n",
    "\n",
    "# Initialize best_score parameter\n",
    "best_score = 0\n",
    "\n",
    "# Train the model\n",
    "for epoch in range(num_epochs):  # loop over the dataset for the number of specified epochs\n",
    "    running_loss = 0.0\n",
    "    for i, data in enumerate(train_loader):\n",
    "        inputs, labels = data[0].to(device), data[1].to(device)\n",
    "\n",
    "        optimizer.zero_grad()\n",
    "\n",
    "        outputs = pretrained_model(inputs)\n",
    "        loss = criterion(outputs, labels)\n",
    "        loss.backward()\n",
    "        optimizer.step()\n",
    "\n",
    "        running_loss += loss.item()\n",
    "        print(f'Epoch {epoch + 1}, Iteration [{i}/{len(train_loader)}]', end='\\r')\n",
    "    \n",
    "    # log the running loss\n",
    "    print(f'Finished epoch [{epoch + 1}/{num_epochs}], Loss: {running_loss / len(train_loader):.4f}')    \n",
    "    \n",
    "    # show testing accuracy\n",
    "    correct = 0\n",
    "    total = 0\n",
    "\n",
    "    with torch.no_grad():\n",
    "        for data in test_loader:\n",
    "            images, labels = data[0].to(device), data[1].to(device)\n",
    "            outputs = pretrained_model(images)\n",
    "            _, predicted = torch.max(outputs.data, 1)\n",
    "            total += labels.size(0)\n",
    "            correct += (predicted == labels).sum().item()\n",
    "    # log the testing accuracy\n",
    "    print(f'Accuracy of the network on the 10000 test images: {100 * correct / total}%')\n",
    "    \n",
    "\n",
    "print('Finished Training')\n",
    "# save the model\n",
    "PATH = './finetuned_model.pth'\n",
    "torch.save(pretrained_model.state_dict(), PATH)"
   ]
  },
  {
   "cell_type": "code",
   "execution_count": 12,
   "metadata": {},
   "outputs": [
    {
     "name": "stdout",
     "output_type": "stream",
     "text": [
      "Accuracy of the network on the 10000 test images: 77.63 %\n"
     ]
    }
   ],
   "source": [
    "test_model_on_testset(pretrained_model, test_loader, device)"
   ]
  },
  {
   "cell_type": "markdown",
   "metadata": {},
   "source": [
    "#### Questions\n",
    "**Q6**. What do you think of the performance compared to the model trained from scratch?\n",
    "\n",
    "**Q7**. What do you think of the speed of convergence compared to the model trained from scratch?\n",
    "\n",
    "**Q8**. What is the influence of the learning rate? Try to increase/decrease the learning rate."
   ]
  }
 ],
 "metadata": {
  "kernelspec": {
   "display_name": "experiments",
   "language": "python",
   "name": "python3"
  },
  "language_info": {
   "codemirror_mode": {
    "name": "ipython",
    "version": 3
   },
   "file_extension": ".py",
   "mimetype": "text/x-python",
   "name": "python",
   "nbconvert_exporter": "python",
   "pygments_lexer": "ipython3",
   "version": "3.8.18"
  }
 },
 "nbformat": 4,
 "nbformat_minor": 2
}
