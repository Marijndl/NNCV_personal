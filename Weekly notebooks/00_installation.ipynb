{
 "cells": [
  {
   "cell_type": "markdown",
   "id": "f2694980",
   "metadata": {},
   "source": [
    "**Disclaimer**<br> This installation is only designed for the course and not recommended for daily use.<br>It is **not** (practically) possible to install libraries on a virtual environment for Jupyter - everything is installed directly on your home directory.<br><br>\n",
    "\n",
    "**Why do you need a separate notebook for installation?**<br>\n",
    "When you open a notebook you are in the end submitting a job, so you cannot install packages for the loaded and use them \"on the fly\" in the same interactive session.<br>\n",
    "Once this is installed, you may close installation notebook, and when you open another notebook with the same module, installed libraries should work."
   ]
  },
  {
   "cell_type": "code",
   "execution_count": 1,
   "id": "af1510ca-0225-4950-990b-b174ce5e9869",
   "metadata": {},
   "outputs": [
    {
     "name": "stdout",
     "output_type": "stream",
     "text": [
      "Requirement already satisfied: pip in c:\\users\\20203226\\anaconda3\\envs\\tf\\lib\\site-packages (23.0)\n",
      "Collecting pip\n",
      "  Downloading pip-25.0.1-py3-none-any.whl (1.8 MB)\n",
      "     ---------------------------------------- 1.8/1.8 MB 11.7 MB/s eta 0:00:00\n"
     ]
    },
    {
     "name": "stderr",
     "output_type": "stream",
     "text": [
      "ERROR: To modify pip, please run the following command:\n",
      "C:\\Users\\20203226\\Anaconda3\\envs\\tf\\python.exe -m pip install --upgrade pip\n",
      "\n",
      "[notice] A new release of pip available: 23.0 -> 25.0.1\n",
      "[notice] To update, run: python.exe -m pip install --upgrade pip\n"
     ]
    }
   ],
   "source": [
    "! pip3 install --upgrade pip"
   ]
  },
  {
   "cell_type": "code",
   "execution_count": 1,
   "id": "51f978bd",
   "metadata": {},
   "outputs": [
    {
     "name": "stdout",
     "output_type": "stream",
     "text": [
      "Looking in indexes: https://download.pytorch.org/whl/cu126\n",
      "Requirement already satisfied: torch in c:\\users\\20203226\\anaconda3\\envs\\tf\\lib\\site-packages (2.6.0)\n",
      "Requirement already satisfied: torchvision in c:\\users\\20203226\\anaconda3\\envs\\tf\\lib\\site-packages (0.21.0)\n",
      "Requirement already satisfied: torchaudio in c:\\users\\20203226\\anaconda3\\envs\\tf\\lib\\site-packages (2.6.0)\n",
      "Requirement already satisfied: filelock in c:\\users\\20203226\\anaconda3\\envs\\tf\\lib\\site-packages (from torch) (3.17.0)\n",
      "Requirement already satisfied: typing-extensions>=4.10.0 in c:\\users\\20203226\\anaconda3\\envs\\tf\\lib\\site-packages (from torch) (4.12.2)\n",
      "Requirement already satisfied: networkx in c:\\users\\20203226\\anaconda3\\envs\\tf\\lib\\site-packages (from torch) (3.2.1)\n",
      "Requirement already satisfied: jinja2 in c:\\users\\20203226\\anaconda3\\envs\\tf\\lib\\site-packages (from torch) (3.1.2)\n",
      "Requirement already satisfied: sympy==1.13.1 in c:\\users\\20203226\\anaconda3\\envs\\tf\\lib\\site-packages (from torch) (1.13.1)\n",
      "Requirement already satisfied: fsspec in c:\\users\\20203226\\anaconda3\\envs\\tf\\lib\\site-packages (from torch) (2025.2.0)\n",
      "Requirement already satisfied: mpmath<1.4,>=1.1.0 in c:\\users\\20203226\\anaconda3\\envs\\tf\\lib\\site-packages (from sympy==1.13.1->torch) (1.3.0)\n",
      "Requirement already satisfied: pillow!=8.3.*,>=5.3.0 in c:\\users\\20203226\\anaconda3\\envs\\tf\\lib\\site-packages (from torchvision) (9.3.0)\n",
      "Requirement already satisfied: numpy in c:\\users\\20203226\\anaconda3\\envs\\tf\\lib\\site-packages (from torchvision) (1.24.2)\n",
      "Requirement already satisfied: MarkupSafe>=2.0 in c:\\users\\20203226\\anaconda3\\envs\\tf\\lib\\site-packages (from jinja2->torch) (2.1.2)\n"
     ]
    },
    {
     "name": "stderr",
     "output_type": "stream",
     "text": [
      "\n",
      "[notice] A new release of pip available: 23.0 -> 25.0.1\n",
      "[notice] To update, run: python.exe -m pip install --upgrade pip\n"
     ]
    }
   ],
   "source": [
    "! pip3 install torch torchvision torchaudio --index-url https://download.pytorch.org/whl/cu126"
   ]
  },
  {
   "cell_type": "code",
   "execution_count": 2,
   "id": "99a35459-5d9e-416c-9580-eb0305f5ea06",
   "metadata": {},
   "outputs": [
    {
     "name": "stdout",
     "output_type": "stream",
     "text": [
      "Looking in links: https://download.pytorch.org/whl/torch_stable.html\n",
      "Collecting torch\n",
      "  Downloading torch-2.6.0-cp39-cp39-win_amd64.whl (204.1 MB)\n",
      "     -------------------------------------- 204.1/204.1 MB 9.1 MB/s eta 0:00:00\n",
      "Collecting torchvision\n",
      "  Downloading torchvision-0.21.0-cp39-cp39-win_amd64.whl (1.6 MB)\n",
      "     ---------------------------------------- 1.6/1.6 MB 14.2 MB/s eta 0:00:00\n",
      "Collecting torchaudio\n",
      "  Downloading torchaudio-2.6.0-cp39-cp39-win_amd64.whl (2.4 MB)\n",
      "     ---------------------------------------- 2.4/2.4 MB 14.2 MB/s eta 0:00:00\n",
      "Requirement already satisfied: numpy in c:\\users\\20203226\\anaconda3\\envs\\tf\\lib\\site-packages (from -r requirements.txt (line 5)) (1.24.2)\n",
      "Requirement already satisfied: pandas in c:\\users\\20203226\\anaconda3\\envs\\tf\\lib\\site-packages (from -r requirements.txt (line 6)) (1.5.2)\n",
      "Collecting scikit-image\n",
      "  Downloading scikit_image-0.24.0-cp39-cp39-win_amd64.whl (12.9 MB)\n",
      "     --------------------------------------- 12.9/12.9 MB 15.2 MB/s eta 0:00:00\n",
      "Requirement already satisfied: scikit-learn in c:\\users\\20203226\\anaconda3\\envs\\tf\\lib\\site-packages (from -r requirements.txt (line 8)) (1.2.0)\n",
      "Requirement already satisfied: scipy in c:\\users\\20203226\\anaconda3\\envs\\tf\\lib\\site-packages (from -r requirements.txt (line 9)) (1.10.0)\n",
      "Collecting opencv-python\n",
      "  Downloading opencv_python-4.11.0.86-cp37-abi3-win_amd64.whl (39.5 MB)\n",
      "     --------------------------------------- 39.5/39.5 MB 13.9 MB/s eta 0:00:00\n",
      "Requirement already satisfied: matplotlib in c:\\users\\20203226\\anaconda3\\envs\\tf\\lib\\site-packages (from -r requirements.txt (line 11)) (3.6.2)\n",
      "Collecting seaborn\n",
      "  Downloading seaborn-0.13.2-py3-none-any.whl (294 kB)\n",
      "     -------------------------------------- 294.9/294.9 kB 9.2 MB/s eta 0:00:00\n",
      "Collecting wandb\n",
      "  Downloading wandb-0.19.6-py3-none-win_amd64.whl (20.2 MB)\n",
      "     --------------------------------------- 20.2/20.2 MB 14.9 MB/s eta 0:00:00\n",
      "Requirement already satisfied: tqdm in c:\\users\\20203226\\anaconda3\\envs\\tf\\lib\\site-packages (from -r requirements.txt (line 14)) (4.67.1)\n",
      "Collecting fsspec\n",
      "  Downloading fsspec-2025.2.0-py3-none-any.whl (184 kB)\n",
      "     ------------------------------------- 184.5/184.5 kB 11.6 MB/s eta 0:00:00\n",
      "Collecting networkx\n",
      "  Downloading networkx-3.2.1-py3-none-any.whl (1.6 MB)\n",
      "     ---------------------------------------- 1.6/1.6 MB 14.9 MB/s eta 0:00:00\n",
      "Collecting sympy==1.13.1\n",
      "  Downloading sympy-1.13.1-py3-none-any.whl (6.2 MB)\n",
      "     ---------------------------------------- 6.2/6.2 MB 13.6 MB/s eta 0:00:00\n",
      "Collecting typing-extensions>=4.10.0\n",
      "  Downloading typing_extensions-4.12.2-py3-none-any.whl (37 kB)\n",
      "Requirement already satisfied: jinja2 in c:\\users\\20203226\\anaconda3\\envs\\tf\\lib\\site-packages (from torch->-r requirements.txt (line 2)) (3.1.2)\n",
      "Collecting filelock\n",
      "  Downloading filelock-3.17.0-py3-none-any.whl (16 kB)\n",
      "Collecting mpmath<1.4,>=1.1.0\n",
      "  Downloading mpmath-1.3.0-py3-none-any.whl (536 kB)\n",
      "     ------------------------------------- 536.2/536.2 kB 17.0 MB/s eta 0:00:00\n",
      "Requirement already satisfied: pillow!=8.3.*,>=5.3.0 in c:\\users\\20203226\\anaconda3\\envs\\tf\\lib\\site-packages (from torchvision->-r requirements.txt (line 3)) (9.3.0)\n",
      "Requirement already satisfied: python-dateutil>=2.8.1 in c:\\users\\20203226\\anaconda3\\envs\\tf\\lib\\site-packages (from pandas->-r requirements.txt (line 6)) (2.8.2)\n",
      "Requirement already satisfied: pytz>=2020.1 in c:\\users\\20203226\\anaconda3\\envs\\tf\\lib\\site-packages (from pandas->-r requirements.txt (line 6)) (2022.7)\n",
      "Collecting tifffile>=2022.8.12\n",
      "  Downloading tifffile-2024.8.30-py3-none-any.whl (227 kB)\n",
      "     ---------------------------------------- 227.3/227.3 kB ? eta 0:00:00\n",
      "Collecting lazy-loader>=0.4\n",
      "  Downloading lazy_loader-0.4-py3-none-any.whl (12 kB)\n",
      "Requirement already satisfied: packaging>=21 in c:\\users\\20203226\\anaconda3\\envs\\tf\\lib\\site-packages (from scikit-image->-r requirements.txt (line 7)) (23.0)\n",
      "Requirement already satisfied: imageio>=2.33 in c:\\users\\20203226\\anaconda3\\envs\\tf\\lib\\site-packages (from scikit-image->-r requirements.txt (line 7)) (2.37.0)\n",
      "Requirement already satisfied: joblib>=1.1.1 in c:\\users\\20203226\\anaconda3\\envs\\tf\\lib\\site-packages (from scikit-learn->-r requirements.txt (line 8)) (1.1.1)\n",
      "Requirement already satisfied: threadpoolctl>=2.0.0 in c:\\users\\20203226\\anaconda3\\envs\\tf\\lib\\site-packages (from scikit-learn->-r requirements.txt (line 8)) (2.2.0)\n",
      "Requirement already satisfied: cycler>=0.10 in c:\\users\\20203226\\anaconda3\\envs\\tf\\lib\\site-packages (from matplotlib->-r requirements.txt (line 11)) (0.11.0)\n",
      "Requirement already satisfied: kiwisolver>=1.0.1 in c:\\users\\20203226\\anaconda3\\envs\\tf\\lib\\site-packages (from matplotlib->-r requirements.txt (line 11)) (1.4.4)\n",
      "Requirement already satisfied: fonttools>=4.22.0 in c:\\users\\20203226\\anaconda3\\envs\\tf\\lib\\site-packages (from matplotlib->-r requirements.txt (line 11)) (4.25.0)\n",
      "Requirement already satisfied: contourpy>=1.0.1 in c:\\users\\20203226\\anaconda3\\envs\\tf\\lib\\site-packages (from matplotlib->-r requirements.txt (line 11)) (1.0.5)\n",
      "Requirement already satisfied: pyparsing>=2.2.1 in c:\\users\\20203226\\anaconda3\\envs\\tf\\lib\\site-packages (from matplotlib->-r requirements.txt (line 11)) (3.0.9)\n",
      "Requirement already satisfied: platformdirs in c:\\users\\20203226\\anaconda3\\envs\\tf\\lib\\site-packages (from wandb->-r requirements.txt (line 13)) (2.5.2)\n",
      "Collecting setproctitle\n",
      "  Downloading setproctitle-1.3.4-cp39-cp39-win_amd64.whl (12 kB)\n",
      "Collecting docker-pycreds>=0.4.0\n",
      "  Downloading docker_pycreds-0.4.0-py2.py3-none-any.whl (9.0 kB)\n",
      "Requirement already satisfied: pyyaml in c:\\users\\20203226\\anaconda3\\envs\\tf\\lib\\site-packages (from wandb->-r requirements.txt (line 13)) (6.0)\n",
      "Requirement already satisfied: setuptools in c:\\users\\20203226\\anaconda3\\envs\\tf\\lib\\site-packages (from wandb->-r requirements.txt (line 13)) (65.6.3)\n",
      "Requirement already satisfied: requests<3,>=2.0.0 in c:\\users\\20203226\\anaconda3\\envs\\tf\\lib\\site-packages (from wandb->-r requirements.txt (line 13)) (2.28.2)\n",
      "Collecting pydantic<3,>=2.6\n",
      "  Downloading pydantic-2.10.6-py3-none-any.whl (431 kB)\n",
      "     ------------------------------------- 431.7/431.7 kB 13.6 MB/s eta 0:00:00\n",
      "Requirement already satisfied: psutil>=5.0.0 in c:\\users\\20203226\\anaconda3\\envs\\tf\\lib\\site-packages (from wandb->-r requirements.txt (line 13)) (5.9.0)\n",
      "Collecting sentry-sdk>=2.0.0\n",
      "  Downloading sentry_sdk-2.21.0-py2.py3-none-any.whl (324 kB)\n",
      "     ------------------------------------- 324.1/324.1 kB 19.6 MB/s eta 0:00:00\n",
      "Collecting gitpython!=3.1.29,>=1.0.0\n",
      "  Downloading GitPython-3.1.44-py3-none-any.whl (207 kB)\n",
      "     ------------------------------------- 207.6/207.6 kB 12.3 MB/s eta 0:00:00\n",
      "Requirement already satisfied: protobuf!=4.21.0,!=5.28.0,<6,>=3.19.0 in c:\\users\\20203226\\anaconda3\\envs\\tf\\lib\\site-packages (from wandb->-r requirements.txt (line 13)) (3.19.6)\n",
      "Collecting eval-type-backport\n",
      "  Downloading eval_type_backport-0.2.2-py3-none-any.whl (5.8 kB)\n",
      "Requirement already satisfied: click!=8.0.0,>=7.1 in c:\\users\\20203226\\anaconda3\\envs\\tf\\lib\\site-packages (from wandb->-r requirements.txt (line 13)) (8.0.4)\n",
      "Requirement already satisfied: colorama in c:\\users\\20203226\\anaconda3\\envs\\tf\\lib\\site-packages (from tqdm->-r requirements.txt (line 14)) (0.4.6)\n",
      "Requirement already satisfied: six>=1.4.0 in c:\\users\\20203226\\anaconda3\\envs\\tf\\lib\\site-packages (from docker-pycreds>=0.4.0->wandb->-r requirements.txt (line 13)) (1.16.0)\n",
      "Collecting gitdb<5,>=4.0.1\n",
      "  Downloading gitdb-4.0.12-py3-none-any.whl (62 kB)\n",
      "     ---------------------------------------- 62.8/62.8 kB ? eta 0:00:00\n",
      "Collecting annotated-types>=0.6.0\n",
      "  Downloading annotated_types-0.7.0-py3-none-any.whl (13 kB)\n",
      "Collecting pydantic-core==2.27.2\n",
      "  Downloading pydantic_core-2.27.2-cp39-cp39-win_amd64.whl (2.0 MB)\n",
      "     ---------------------------------------- 2.0/2.0 MB 12.7 MB/s eta 0:00:00\n",
      "Requirement already satisfied: certifi>=2017.4.17 in c:\\users\\20203226\\anaconda3\\envs\\tf\\lib\\site-packages (from requests<3,>=2.0.0->wandb->-r requirements.txt (line 13)) (2024.12.14)\n",
      "Requirement already satisfied: charset-normalizer<4,>=2 in c:\\users\\20203226\\anaconda3\\envs\\tf\\lib\\site-packages (from requests<3,>=2.0.0->wandb->-r requirements.txt (line 13)) (3.0.1)\n",
      "Requirement already satisfied: idna<4,>=2.5 in c:\\users\\20203226\\anaconda3\\envs\\tf\\lib\\site-packages (from requests<3,>=2.0.0->wandb->-r requirements.txt (line 13)) (3.4)\n",
      "Requirement already satisfied: urllib3<1.27,>=1.21.1 in c:\\users\\20203226\\anaconda3\\envs\\tf\\lib\\site-packages (from requests<3,>=2.0.0->wandb->-r requirements.txt (line 13)) (1.26.14)\n",
      "Requirement already satisfied: MarkupSafe>=2.0 in c:\\users\\20203226\\anaconda3\\envs\\tf\\lib\\site-packages (from jinja2->torch->-r requirements.txt (line 2)) (2.1.2)\n",
      "Collecting smmap<6,>=3.0.1\n",
      "  Downloading smmap-5.0.2-py3-none-any.whl (24 kB)\n",
      "Installing collected packages: mpmath, typing-extensions, tifffile, sympy, smmap, setproctitle, sentry-sdk, opencv-python, networkx, lazy-loader, fsspec, filelock, eval-type-backport, docker-pycreds, annotated-types, torch, scikit-image, pydantic-core, gitdb, torchvision, torchaudio, seaborn, pydantic, gitpython, wandb\n",
      "  Attempting uninstall: typing-extensions\n",
      "    Found existing installation: typing_extensions 4.5.0\n",
      "    Uninstalling typing_extensions-4.5.0:\n",
      "      Successfully uninstalled typing_extensions-4.5.0\n",
      "Successfully installed annotated-types-0.7.0 docker-pycreds-0.4.0 eval-type-backport-0.2.2 filelock-3.17.0 fsspec-2025.2.0 gitdb-4.0.12 gitpython-3.1.44 lazy-loader-0.4 mpmath-1.3.0 networkx-3.2.1 opencv-python-4.11.0.86 pydantic-2.10.6 pydantic-core-2.27.2 scikit-image-0.24.0 seaborn-0.13.2 sentry-sdk-2.21.0 setproctitle-1.3.4 smmap-5.0.2 sympy-1.13.1 tifffile-2024.8.30 torch-2.6.0 torchaudio-2.6.0 torchvision-0.21.0 typing-extensions-4.12.2 wandb-0.19.6\n"
     ]
    },
    {
     "name": "stderr",
     "output_type": "stream",
     "text": [
      "\n",
      "[notice] A new release of pip available: 23.0 -> 25.0.1\n",
      "[notice] To update, run: python.exe -m pip install --upgrade pip\n"
     ]
    }
   ],
   "source": [
    "! pip3 install -r requirements.txt"
   ]
  },
  {
   "cell_type": "code",
   "execution_count": 1,
   "id": "26371e8e",
   "metadata": {},
   "outputs": [
    {
     "data": {
      "text/plain": [
       "True"
      ]
     },
     "execution_count": 1,
     "metadata": {},
     "output_type": "execute_result"
    }
   ],
   "source": [
    "import torch\n",
    "\n",
    "torch.cuda.is_available()"
   ]
  }
 ],
 "metadata": {
  "kernelspec": {
   "display_name": "experiments",
   "language": "python",
   "name": "python3"
  },
  "language_info": {
   "codemirror_mode": {
    "name": "ipython",
    "version": 3
   },
   "file_extension": ".py",
   "mimetype": "text/x-python",
   "name": "python",
   "nbconvert_exporter": "python",
   "pygments_lexer": "ipython3",
   "version": "3.8.18"
  }
 },
 "nbformat": 4,
 "nbformat_minor": 5
}
